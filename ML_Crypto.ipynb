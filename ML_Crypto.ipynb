{
  "nbformat": 4,
  "nbformat_minor": 0,
  "metadata": {
    "colab": {
      "provenance": [],
      "mount_file_id": "1Rt7GMAmyEyTaZRPbTRBAtwJzmcQi51Bo",
      "authorship_tag": "ABX9TyNgy5v31HO3EEdxG8TmOq8v",
      "include_colab_link": true
    },
    "kernelspec": {
      "name": "python3",
      "display_name": "Python 3"
    },
    "language_info": {
      "name": "python"
    },
    "accelerator": "GPU",
    "gpuClass": "standard"
  },
  "cells": [
    {
      "cell_type": "markdown",
      "metadata": {
        "id": "view-in-github",
        "colab_type": "text"
      },
      "source": [
        "<a href=\"https://colab.research.google.com/github/simon-ru/An-Operational-Analysis-of-Lake-Surface-Water-Temperature/blob/main/ML_Crypto.ipynb\" target=\"_parent\"><img src=\"https://colab.research.google.com/assets/colab-badge.svg\" alt=\"Open In Colab\"/></a>"
      ]
    },
    {
      "cell_type": "code",
      "execution_count": null,
      "metadata": {
        "colab": {
          "base_uri": "https://localhost:8080/"
        },
        "id": "n-jMjScoshub",
        "outputId": "34a7a818-c7e4-443a-8188-83e411b47784"
      },
      "outputs": [
        {
          "output_type": "stream",
          "name": "stdout",
          "text": [
            "Mounted at /content/gdrive\n"
          ]
        }
      ],
      "source": [
        "from google.colab import drive\n",
        "drive.mount('/content/gdrive')"
      ]
    },
    {
      "cell_type": "code",
      "source": [
        "import numpy as np\n",
        "import pandas as pd\n",
        "from scipy.signal import savgol_filter\n",
        "from sklearn.linear_model import LinearRegression\n",
        "from datetime import datetime, timedelta\n",
        "from math import isinf"
      ],
      "metadata": {
        "id": "LOxRU3Ryvxen"
      },
      "execution_count": 1,
      "outputs": []
    },
    {
      "cell_type": "code",
      "source": [
        "from google.colab import files\n",
        "uploaded = files.upload()"
      ],
      "metadata": {
        "colab": {
          "base_uri": "https://localhost:8080/",
          "height": 74
        },
        "id": "op9jUBGQwCKO",
        "outputId": "c5947434-f9c1-4909-829e-c237eec687f5"
      },
      "execution_count": 4,
      "outputs": [
        {
          "output_type": "display_data",
          "data": {
            "text/plain": [
              "<IPython.core.display.HTML object>"
            ],
            "text/html": [
              "\n",
              "     <input type=\"file\" id=\"files-391ce36c-ece9-4a44-85ae-a96693df7072\" name=\"files[]\" multiple disabled\n",
              "        style=\"border:none\" />\n",
              "     <output id=\"result-391ce36c-ece9-4a44-85ae-a96693df7072\">\n",
              "      Upload widget is only available when the cell has been executed in the\n",
              "      current browser session. Please rerun this cell to enable.\n",
              "      </output>\n",
              "      <script>// Copyright 2017 Google LLC\n",
              "//\n",
              "// Licensed under the Apache License, Version 2.0 (the \"License\");\n",
              "// you may not use this file except in compliance with the License.\n",
              "// You may obtain a copy of the License at\n",
              "//\n",
              "//      http://www.apache.org/licenses/LICENSE-2.0\n",
              "//\n",
              "// Unless required by applicable law or agreed to in writing, software\n",
              "// distributed under the License is distributed on an \"AS IS\" BASIS,\n",
              "// WITHOUT WARRANTIES OR CONDITIONS OF ANY KIND, either express or implied.\n",
              "// See the License for the specific language governing permissions and\n",
              "// limitations under the License.\n",
              "\n",
              "/**\n",
              " * @fileoverview Helpers for google.colab Python module.\n",
              " */\n",
              "(function(scope) {\n",
              "function span(text, styleAttributes = {}) {\n",
              "  const element = document.createElement('span');\n",
              "  element.textContent = text;\n",
              "  for (const key of Object.keys(styleAttributes)) {\n",
              "    element.style[key] = styleAttributes[key];\n",
              "  }\n",
              "  return element;\n",
              "}\n",
              "\n",
              "// Max number of bytes which will be uploaded at a time.\n",
              "const MAX_PAYLOAD_SIZE = 100 * 1024;\n",
              "\n",
              "function _uploadFiles(inputId, outputId) {\n",
              "  const steps = uploadFilesStep(inputId, outputId);\n",
              "  const outputElement = document.getElementById(outputId);\n",
              "  // Cache steps on the outputElement to make it available for the next call\n",
              "  // to uploadFilesContinue from Python.\n",
              "  outputElement.steps = steps;\n",
              "\n",
              "  return _uploadFilesContinue(outputId);\n",
              "}\n",
              "\n",
              "// This is roughly an async generator (not supported in the browser yet),\n",
              "// where there are multiple asynchronous steps and the Python side is going\n",
              "// to poll for completion of each step.\n",
              "// This uses a Promise to block the python side on completion of each step,\n",
              "// then passes the result of the previous step as the input to the next step.\n",
              "function _uploadFilesContinue(outputId) {\n",
              "  const outputElement = document.getElementById(outputId);\n",
              "  const steps = outputElement.steps;\n",
              "\n",
              "  const next = steps.next(outputElement.lastPromiseValue);\n",
              "  return Promise.resolve(next.value.promise).then((value) => {\n",
              "    // Cache the last promise value to make it available to the next\n",
              "    // step of the generator.\n",
              "    outputElement.lastPromiseValue = value;\n",
              "    return next.value.response;\n",
              "  });\n",
              "}\n",
              "\n",
              "/**\n",
              " * Generator function which is called between each async step of the upload\n",
              " * process.\n",
              " * @param {string} inputId Element ID of the input file picker element.\n",
              " * @param {string} outputId Element ID of the output display.\n",
              " * @return {!Iterable<!Object>} Iterable of next steps.\n",
              " */\n",
              "function* uploadFilesStep(inputId, outputId) {\n",
              "  const inputElement = document.getElementById(inputId);\n",
              "  inputElement.disabled = false;\n",
              "\n",
              "  const outputElement = document.getElementById(outputId);\n",
              "  outputElement.innerHTML = '';\n",
              "\n",
              "  const pickedPromise = new Promise((resolve) => {\n",
              "    inputElement.addEventListener('change', (e) => {\n",
              "      resolve(e.target.files);\n",
              "    });\n",
              "  });\n",
              "\n",
              "  const cancel = document.createElement('button');\n",
              "  inputElement.parentElement.appendChild(cancel);\n",
              "  cancel.textContent = 'Cancel upload';\n",
              "  const cancelPromise = new Promise((resolve) => {\n",
              "    cancel.onclick = () => {\n",
              "      resolve(null);\n",
              "    };\n",
              "  });\n",
              "\n",
              "  // Wait for the user to pick the files.\n",
              "  const files = yield {\n",
              "    promise: Promise.race([pickedPromise, cancelPromise]),\n",
              "    response: {\n",
              "      action: 'starting',\n",
              "    }\n",
              "  };\n",
              "\n",
              "  cancel.remove();\n",
              "\n",
              "  // Disable the input element since further picks are not allowed.\n",
              "  inputElement.disabled = true;\n",
              "\n",
              "  if (!files) {\n",
              "    return {\n",
              "      response: {\n",
              "        action: 'complete',\n",
              "      }\n",
              "    };\n",
              "  }\n",
              "\n",
              "  for (const file of files) {\n",
              "    const li = document.createElement('li');\n",
              "    li.append(span(file.name, {fontWeight: 'bold'}));\n",
              "    li.append(span(\n",
              "        `(${file.type || 'n/a'}) - ${file.size} bytes, ` +\n",
              "        `last modified: ${\n",
              "            file.lastModifiedDate ? file.lastModifiedDate.toLocaleDateString() :\n",
              "                                    'n/a'} - `));\n",
              "    const percent = span('0% done');\n",
              "    li.appendChild(percent);\n",
              "\n",
              "    outputElement.appendChild(li);\n",
              "\n",
              "    const fileDataPromise = new Promise((resolve) => {\n",
              "      const reader = new FileReader();\n",
              "      reader.onload = (e) => {\n",
              "        resolve(e.target.result);\n",
              "      };\n",
              "      reader.readAsArrayBuffer(file);\n",
              "    });\n",
              "    // Wait for the data to be ready.\n",
              "    let fileData = yield {\n",
              "      promise: fileDataPromise,\n",
              "      response: {\n",
              "        action: 'continue',\n",
              "      }\n",
              "    };\n",
              "\n",
              "    // Use a chunked sending to avoid message size limits. See b/62115660.\n",
              "    let position = 0;\n",
              "    do {\n",
              "      const length = Math.min(fileData.byteLength - position, MAX_PAYLOAD_SIZE);\n",
              "      const chunk = new Uint8Array(fileData, position, length);\n",
              "      position += length;\n",
              "\n",
              "      const base64 = btoa(String.fromCharCode.apply(null, chunk));\n",
              "      yield {\n",
              "        response: {\n",
              "          action: 'append',\n",
              "          file: file.name,\n",
              "          data: base64,\n",
              "        },\n",
              "      };\n",
              "\n",
              "      let percentDone = fileData.byteLength === 0 ?\n",
              "          100 :\n",
              "          Math.round((position / fileData.byteLength) * 100);\n",
              "      percent.textContent = `${percentDone}% done`;\n",
              "\n",
              "    } while (position < fileData.byteLength);\n",
              "  }\n",
              "\n",
              "  // All done.\n",
              "  yield {\n",
              "    response: {\n",
              "      action: 'complete',\n",
              "    }\n",
              "  };\n",
              "}\n",
              "\n",
              "scope.google = scope.google || {};\n",
              "scope.google.colab = scope.google.colab || {};\n",
              "scope.google.colab._files = {\n",
              "  _uploadFiles,\n",
              "  _uploadFilesContinue,\n",
              "};\n",
              "})(self);\n",
              "</script> "
            ]
          },
          "metadata": {}
        },
        {
          "output_type": "stream",
          "name": "stdout",
          "text": [
            "Saving Binance_BTCUSDT_d.csv to Binance_BTCUSDT_d.csv\n"
          ]
        }
      ]
    },
    {
      "cell_type": "code",
      "source": [
        "df = pd.read_csv('Binance_BTCUSDT_d.csv', index_col=0, parse_dates=True)\n",
        "df.dropna(axis=0, how='all', inplace=True)\n",
        "df.dropna(axis=1, how='any', inplace=True)"
      ],
      "metadata": {
        "id": "qBpWcTjrwHKE"
      },
      "execution_count": 5,
      "outputs": []
    },
    {
      "cell_type": "code",
      "source": [
        "df"
      ],
      "metadata": {
        "colab": {
          "base_uri": "https://localhost:8080/",
          "height": 455
        },
        "id": "_W30NUQ7wHVZ",
        "outputId": "4caf2b30-0a42-4159-af08-e1f54922f66c"
      },
      "execution_count": 6,
      "outputs": [
        {
          "output_type": "execute_result",
          "data": {
            "text/plain": [
              "                     Date   Symbol      Open      High       Low     Close  \\\n",
              "Unix                                                                         \n",
              "1674172800000  2023-01-20  BTCUSDT  21071.59  22755.93  20861.28  22667.21   \n",
              "1674086400000  2023-01-19  BTCUSDT  20677.47  21192.00  20659.19  21071.59   \n",
              "1674000000000  2023-01-18  BTCUSDT  21132.29  21650.00  20407.15  20677.47   \n",
              "1673913600000  2023-01-17  BTCUSDT  21185.65  21647.45  20841.31  21134.81   \n",
              "1673827200000  2023-01-16  BTCUSDT  20872.99  21474.05  20611.48  21185.65   \n",
              "...                   ...      ...       ...       ...       ...       ...   \n",
              "1503273600000  2017-08-21  BTCUSDT   4069.13   4119.62   3911.79   4016.00   \n",
              "1503187200000  2017-08-20  BTCUSDT   4120.98   4211.08   4032.62   4086.29   \n",
              "1503100800000  2017-08-19  BTCUSDT   4108.37   4184.69   3850.00   4139.98   \n",
              "1503014400000  2017-08-18  BTCUSDT   4285.08   4371.52   3938.77   4108.37   \n",
              "1502928000000  2017-08-17  BTCUSDT   4261.48   4485.39   4200.74   4285.08   \n",
              "\n",
              "                  Volume BTC   Volume USDT  tradecount  \n",
              "Unix                                                    \n",
              "1674172800000  338079.136590  7.256173e+09     7382435  \n",
              "1674086400000  251385.849250  5.243024e+09     5819932  \n",
              "1674000000000  350916.019490  7.399719e+09     7617173  \n",
              "1673913600000  275407.744090  5.840586e+09     6440138  \n",
              "1673827200000  293078.082620  6.168654e+09     6856434  \n",
              "...                      ...           ...         ...  \n",
              "1503273600000     691.743060  2.797232e+06        3972  \n",
              "1503187200000     467.083022  1.930364e+06        2321  \n",
              "1503100800000     381.309763  1.549484e+06        2153  \n",
              "1503014400000    1199.888264  5.086958e+06        5233  \n",
              "1502928000000     795.150377  3.454770e+06        3427  \n",
              "\n",
              "[1983 rows x 9 columns]"
            ],
            "text/html": [
              "\n",
              "  <div id=\"df-fa0998f9-bdee-4b74-974e-87f192474f92\">\n",
              "    <div class=\"colab-df-container\">\n",
              "      <div>\n",
              "<style scoped>\n",
              "    .dataframe tbody tr th:only-of-type {\n",
              "        vertical-align: middle;\n",
              "    }\n",
              "\n",
              "    .dataframe tbody tr th {\n",
              "        vertical-align: top;\n",
              "    }\n",
              "\n",
              "    .dataframe thead th {\n",
              "        text-align: right;\n",
              "    }\n",
              "</style>\n",
              "<table border=\"1\" class=\"dataframe\">\n",
              "  <thead>\n",
              "    <tr style=\"text-align: right;\">\n",
              "      <th></th>\n",
              "      <th>Date</th>\n",
              "      <th>Symbol</th>\n",
              "      <th>Open</th>\n",
              "      <th>High</th>\n",
              "      <th>Low</th>\n",
              "      <th>Close</th>\n",
              "      <th>Volume BTC</th>\n",
              "      <th>Volume USDT</th>\n",
              "      <th>tradecount</th>\n",
              "    </tr>\n",
              "    <tr>\n",
              "      <th>Unix</th>\n",
              "      <th></th>\n",
              "      <th></th>\n",
              "      <th></th>\n",
              "      <th></th>\n",
              "      <th></th>\n",
              "      <th></th>\n",
              "      <th></th>\n",
              "      <th></th>\n",
              "      <th></th>\n",
              "    </tr>\n",
              "  </thead>\n",
              "  <tbody>\n",
              "    <tr>\n",
              "      <th>1674172800000</th>\n",
              "      <td>2023-01-20</td>\n",
              "      <td>BTCUSDT</td>\n",
              "      <td>21071.59</td>\n",
              "      <td>22755.93</td>\n",
              "      <td>20861.28</td>\n",
              "      <td>22667.21</td>\n",
              "      <td>338079.136590</td>\n",
              "      <td>7.256173e+09</td>\n",
              "      <td>7382435</td>\n",
              "    </tr>\n",
              "    <tr>\n",
              "      <th>1674086400000</th>\n",
              "      <td>2023-01-19</td>\n",
              "      <td>BTCUSDT</td>\n",
              "      <td>20677.47</td>\n",
              "      <td>21192.00</td>\n",
              "      <td>20659.19</td>\n",
              "      <td>21071.59</td>\n",
              "      <td>251385.849250</td>\n",
              "      <td>5.243024e+09</td>\n",
              "      <td>5819932</td>\n",
              "    </tr>\n",
              "    <tr>\n",
              "      <th>1674000000000</th>\n",
              "      <td>2023-01-18</td>\n",
              "      <td>BTCUSDT</td>\n",
              "      <td>21132.29</td>\n",
              "      <td>21650.00</td>\n",
              "      <td>20407.15</td>\n",
              "      <td>20677.47</td>\n",
              "      <td>350916.019490</td>\n",
              "      <td>7.399719e+09</td>\n",
              "      <td>7617173</td>\n",
              "    </tr>\n",
              "    <tr>\n",
              "      <th>1673913600000</th>\n",
              "      <td>2023-01-17</td>\n",
              "      <td>BTCUSDT</td>\n",
              "      <td>21185.65</td>\n",
              "      <td>21647.45</td>\n",
              "      <td>20841.31</td>\n",
              "      <td>21134.81</td>\n",
              "      <td>275407.744090</td>\n",
              "      <td>5.840586e+09</td>\n",
              "      <td>6440138</td>\n",
              "    </tr>\n",
              "    <tr>\n",
              "      <th>1673827200000</th>\n",
              "      <td>2023-01-16</td>\n",
              "      <td>BTCUSDT</td>\n",
              "      <td>20872.99</td>\n",
              "      <td>21474.05</td>\n",
              "      <td>20611.48</td>\n",
              "      <td>21185.65</td>\n",
              "      <td>293078.082620</td>\n",
              "      <td>6.168654e+09</td>\n",
              "      <td>6856434</td>\n",
              "    </tr>\n",
              "    <tr>\n",
              "      <th>...</th>\n",
              "      <td>...</td>\n",
              "      <td>...</td>\n",
              "      <td>...</td>\n",
              "      <td>...</td>\n",
              "      <td>...</td>\n",
              "      <td>...</td>\n",
              "      <td>...</td>\n",
              "      <td>...</td>\n",
              "      <td>...</td>\n",
              "    </tr>\n",
              "    <tr>\n",
              "      <th>1503273600000</th>\n",
              "      <td>2017-08-21</td>\n",
              "      <td>BTCUSDT</td>\n",
              "      <td>4069.13</td>\n",
              "      <td>4119.62</td>\n",
              "      <td>3911.79</td>\n",
              "      <td>4016.00</td>\n",
              "      <td>691.743060</td>\n",
              "      <td>2.797232e+06</td>\n",
              "      <td>3972</td>\n",
              "    </tr>\n",
              "    <tr>\n",
              "      <th>1503187200000</th>\n",
              "      <td>2017-08-20</td>\n",
              "      <td>BTCUSDT</td>\n",
              "      <td>4120.98</td>\n",
              "      <td>4211.08</td>\n",
              "      <td>4032.62</td>\n",
              "      <td>4086.29</td>\n",
              "      <td>467.083022</td>\n",
              "      <td>1.930364e+06</td>\n",
              "      <td>2321</td>\n",
              "    </tr>\n",
              "    <tr>\n",
              "      <th>1503100800000</th>\n",
              "      <td>2017-08-19</td>\n",
              "      <td>BTCUSDT</td>\n",
              "      <td>4108.37</td>\n",
              "      <td>4184.69</td>\n",
              "      <td>3850.00</td>\n",
              "      <td>4139.98</td>\n",
              "      <td>381.309763</td>\n",
              "      <td>1.549484e+06</td>\n",
              "      <td>2153</td>\n",
              "    </tr>\n",
              "    <tr>\n",
              "      <th>1503014400000</th>\n",
              "      <td>2017-08-18</td>\n",
              "      <td>BTCUSDT</td>\n",
              "      <td>4285.08</td>\n",
              "      <td>4371.52</td>\n",
              "      <td>3938.77</td>\n",
              "      <td>4108.37</td>\n",
              "      <td>1199.888264</td>\n",
              "      <td>5.086958e+06</td>\n",
              "      <td>5233</td>\n",
              "    </tr>\n",
              "    <tr>\n",
              "      <th>1502928000000</th>\n",
              "      <td>2017-08-17</td>\n",
              "      <td>BTCUSDT</td>\n",
              "      <td>4261.48</td>\n",
              "      <td>4485.39</td>\n",
              "      <td>4200.74</td>\n",
              "      <td>4285.08</td>\n",
              "      <td>795.150377</td>\n",
              "      <td>3.454770e+06</td>\n",
              "      <td>3427</td>\n",
              "    </tr>\n",
              "  </tbody>\n",
              "</table>\n",
              "<p>1983 rows × 9 columns</p>\n",
              "</div>\n",
              "      <button class=\"colab-df-convert\" onclick=\"convertToInteractive('df-fa0998f9-bdee-4b74-974e-87f192474f92')\"\n",
              "              title=\"Convert this dataframe to an interactive table.\"\n",
              "              style=\"display:none;\">\n",
              "        \n",
              "  <svg xmlns=\"http://www.w3.org/2000/svg\" height=\"24px\"viewBox=\"0 0 24 24\"\n",
              "       width=\"24px\">\n",
              "    <path d=\"M0 0h24v24H0V0z\" fill=\"none\"/>\n",
              "    <path d=\"M18.56 5.44l.94 2.06.94-2.06 2.06-.94-2.06-.94-.94-2.06-.94 2.06-2.06.94zm-11 1L8.5 8.5l.94-2.06 2.06-.94-2.06-.94L8.5 2.5l-.94 2.06-2.06.94zm10 10l.94 2.06.94-2.06 2.06-.94-2.06-.94-.94-2.06-.94 2.06-2.06.94z\"/><path d=\"M17.41 7.96l-1.37-1.37c-.4-.4-.92-.59-1.43-.59-.52 0-1.04.2-1.43.59L10.3 9.45l-7.72 7.72c-.78.78-.78 2.05 0 2.83L4 21.41c.39.39.9.59 1.41.59.51 0 1.02-.2 1.41-.59l7.78-7.78 2.81-2.81c.8-.78.8-2.07 0-2.86zM5.41 20L4 18.59l7.72-7.72 1.47 1.35L5.41 20z\"/>\n",
              "  </svg>\n",
              "      </button>\n",
              "      \n",
              "  <style>\n",
              "    .colab-df-container {\n",
              "      display:flex;\n",
              "      flex-wrap:wrap;\n",
              "      gap: 12px;\n",
              "    }\n",
              "\n",
              "    .colab-df-convert {\n",
              "      background-color: #E8F0FE;\n",
              "      border: none;\n",
              "      border-radius: 50%;\n",
              "      cursor: pointer;\n",
              "      display: none;\n",
              "      fill: #1967D2;\n",
              "      height: 32px;\n",
              "      padding: 0 0 0 0;\n",
              "      width: 32px;\n",
              "    }\n",
              "\n",
              "    .colab-df-convert:hover {\n",
              "      background-color: #E2EBFA;\n",
              "      box-shadow: 0px 1px 2px rgba(60, 64, 67, 0.3), 0px 1px 3px 1px rgba(60, 64, 67, 0.15);\n",
              "      fill: #174EA6;\n",
              "    }\n",
              "\n",
              "    [theme=dark] .colab-df-convert {\n",
              "      background-color: #3B4455;\n",
              "      fill: #D2E3FC;\n",
              "    }\n",
              "\n",
              "    [theme=dark] .colab-df-convert:hover {\n",
              "      background-color: #434B5C;\n",
              "      box-shadow: 0px 1px 3px 1px rgba(0, 0, 0, 0.15);\n",
              "      filter: drop-shadow(0px 1px 2px rgba(0, 0, 0, 0.3));\n",
              "      fill: #FFFFFF;\n",
              "    }\n",
              "  </style>\n",
              "\n",
              "      <script>\n",
              "        const buttonEl =\n",
              "          document.querySelector('#df-fa0998f9-bdee-4b74-974e-87f192474f92 button.colab-df-convert');\n",
              "        buttonEl.style.display =\n",
              "          google.colab.kernel.accessAllowed ? 'block' : 'none';\n",
              "\n",
              "        async function convertToInteractive(key) {\n",
              "          const element = document.querySelector('#df-fa0998f9-bdee-4b74-974e-87f192474f92');\n",
              "          const dataTable =\n",
              "            await google.colab.kernel.invokeFunction('convertToInteractive',\n",
              "                                                     [key], {});\n",
              "          if (!dataTable) return;\n",
              "\n",
              "          const docLinkHtml = 'Like what you see? Visit the ' +\n",
              "            '<a target=\"_blank\" href=https://colab.research.google.com/notebooks/data_table.ipynb>data table notebook</a>'\n",
              "            + ' to learn more about interactive tables.';\n",
              "          element.innerHTML = '';\n",
              "          dataTable['output_type'] = 'display_data';\n",
              "          await google.colab.output.renderOutput(dataTable, element);\n",
              "          const docLink = document.createElement('div');\n",
              "          docLink.innerHTML = docLinkHtml;\n",
              "          element.appendChild(docLink);\n",
              "        }\n",
              "      </script>\n",
              "    </div>\n",
              "  </div>\n",
              "  "
            ]
          },
          "metadata": {},
          "execution_count": 6
        }
      ]
    },
    {
      "cell_type": "code",
      "source": [
        "df['Volume USDT'].fillna(df['Volume USDT'].mean(), inplace=True)"
      ],
      "metadata": {
        "id": "dg1lVYvl1L4r"
      },
      "execution_count": 7,
      "outputs": []
    },
    {
      "cell_type": "code",
      "source": [
        "df['Date'] = pd.to_datetime(df['Date'])"
      ],
      "metadata": {
        "id": "2EHTVKW5xzos"
      },
      "execution_count": 8,
      "outputs": []
    },
    {
      "cell_type": "code",
      "source": [
        "df['Date']"
      ],
      "metadata": {
        "colab": {
          "base_uri": "https://localhost:8080/"
        },
        "id": "LymEadawyIrW",
        "outputId": "19a50eca-35c8-4584-ad30-30a0614f3398"
      },
      "execution_count": 9,
      "outputs": [
        {
          "output_type": "execute_result",
          "data": {
            "text/plain": [
              "Unix\n",
              "1674172800000   2023-01-20\n",
              "1674086400000   2023-01-19\n",
              "1674000000000   2023-01-18\n",
              "1673913600000   2023-01-17\n",
              "1673827200000   2023-01-16\n",
              "                   ...    \n",
              "1503273600000   2017-08-21\n",
              "1503187200000   2017-08-20\n",
              "1503100800000   2017-08-19\n",
              "1503014400000   2017-08-18\n",
              "1502928000000   2017-08-17\n",
              "Name: Date, Length: 1983, dtype: datetime64[ns]"
            ]
          },
          "metadata": {},
          "execution_count": 9
        }
      ]
    },
    {
      "cell_type": "code",
      "source": [
        "df = df.set_index('Date')\n"
      ],
      "metadata": {
        "id": "WMh1p6gRyMxQ"
      },
      "execution_count": 10,
      "outputs": []
    },
    {
      "cell_type": "code",
      "source": [
        "df = df.drop(columns=['Volume USDT'])\n"
      ],
      "metadata": {
        "id": "kKOOh6Q03I_G"
      },
      "execution_count": 11,
      "outputs": []
    },
    {
      "cell_type": "code",
      "source": [
        "df"
      ],
      "metadata": {
        "colab": {
          "base_uri": "https://localhost:8080/",
          "height": 455
        },
        "id": "vsnaa5sryUJ4",
        "outputId": "1f1ee1fc-399f-4caa-bd05-30747d9e4117"
      },
      "execution_count": 12,
      "outputs": [
        {
          "output_type": "execute_result",
          "data": {
            "text/plain": [
              "             Symbol      Open      High       Low     Close     Volume BTC  \\\n",
              "Date                                                                         \n",
              "2023-01-20  BTCUSDT  21071.59  22755.93  20861.28  22667.21  338079.136590   \n",
              "2023-01-19  BTCUSDT  20677.47  21192.00  20659.19  21071.59  251385.849250   \n",
              "2023-01-18  BTCUSDT  21132.29  21650.00  20407.15  20677.47  350916.019490   \n",
              "2023-01-17  BTCUSDT  21185.65  21647.45  20841.31  21134.81  275407.744090   \n",
              "2023-01-16  BTCUSDT  20872.99  21474.05  20611.48  21185.65  293078.082620   \n",
              "...             ...       ...       ...       ...       ...            ...   \n",
              "2017-08-21  BTCUSDT   4069.13   4119.62   3911.79   4016.00     691.743060   \n",
              "2017-08-20  BTCUSDT   4120.98   4211.08   4032.62   4086.29     467.083022   \n",
              "2017-08-19  BTCUSDT   4108.37   4184.69   3850.00   4139.98     381.309763   \n",
              "2017-08-18  BTCUSDT   4285.08   4371.52   3938.77   4108.37    1199.888264   \n",
              "2017-08-17  BTCUSDT   4261.48   4485.39   4200.74   4285.08     795.150377   \n",
              "\n",
              "            tradecount  \n",
              "Date                    \n",
              "2023-01-20     7382435  \n",
              "2023-01-19     5819932  \n",
              "2023-01-18     7617173  \n",
              "2023-01-17     6440138  \n",
              "2023-01-16     6856434  \n",
              "...                ...  \n",
              "2017-08-21        3972  \n",
              "2017-08-20        2321  \n",
              "2017-08-19        2153  \n",
              "2017-08-18        5233  \n",
              "2017-08-17        3427  \n",
              "\n",
              "[1983 rows x 7 columns]"
            ],
            "text/html": [
              "\n",
              "  <div id=\"df-447d087a-24b4-44d9-ba8a-a87c732758cf\">\n",
              "    <div class=\"colab-df-container\">\n",
              "      <div>\n",
              "<style scoped>\n",
              "    .dataframe tbody tr th:only-of-type {\n",
              "        vertical-align: middle;\n",
              "    }\n",
              "\n",
              "    .dataframe tbody tr th {\n",
              "        vertical-align: top;\n",
              "    }\n",
              "\n",
              "    .dataframe thead th {\n",
              "        text-align: right;\n",
              "    }\n",
              "</style>\n",
              "<table border=\"1\" class=\"dataframe\">\n",
              "  <thead>\n",
              "    <tr style=\"text-align: right;\">\n",
              "      <th></th>\n",
              "      <th>Symbol</th>\n",
              "      <th>Open</th>\n",
              "      <th>High</th>\n",
              "      <th>Low</th>\n",
              "      <th>Close</th>\n",
              "      <th>Volume BTC</th>\n",
              "      <th>tradecount</th>\n",
              "    </tr>\n",
              "    <tr>\n",
              "      <th>Date</th>\n",
              "      <th></th>\n",
              "      <th></th>\n",
              "      <th></th>\n",
              "      <th></th>\n",
              "      <th></th>\n",
              "      <th></th>\n",
              "      <th></th>\n",
              "    </tr>\n",
              "  </thead>\n",
              "  <tbody>\n",
              "    <tr>\n",
              "      <th>2023-01-20</th>\n",
              "      <td>BTCUSDT</td>\n",
              "      <td>21071.59</td>\n",
              "      <td>22755.93</td>\n",
              "      <td>20861.28</td>\n",
              "      <td>22667.21</td>\n",
              "      <td>338079.136590</td>\n",
              "      <td>7382435</td>\n",
              "    </tr>\n",
              "    <tr>\n",
              "      <th>2023-01-19</th>\n",
              "      <td>BTCUSDT</td>\n",
              "      <td>20677.47</td>\n",
              "      <td>21192.00</td>\n",
              "      <td>20659.19</td>\n",
              "      <td>21071.59</td>\n",
              "      <td>251385.849250</td>\n",
              "      <td>5819932</td>\n",
              "    </tr>\n",
              "    <tr>\n",
              "      <th>2023-01-18</th>\n",
              "      <td>BTCUSDT</td>\n",
              "      <td>21132.29</td>\n",
              "      <td>21650.00</td>\n",
              "      <td>20407.15</td>\n",
              "      <td>20677.47</td>\n",
              "      <td>350916.019490</td>\n",
              "      <td>7617173</td>\n",
              "    </tr>\n",
              "    <tr>\n",
              "      <th>2023-01-17</th>\n",
              "      <td>BTCUSDT</td>\n",
              "      <td>21185.65</td>\n",
              "      <td>21647.45</td>\n",
              "      <td>20841.31</td>\n",
              "      <td>21134.81</td>\n",
              "      <td>275407.744090</td>\n",
              "      <td>6440138</td>\n",
              "    </tr>\n",
              "    <tr>\n",
              "      <th>2023-01-16</th>\n",
              "      <td>BTCUSDT</td>\n",
              "      <td>20872.99</td>\n",
              "      <td>21474.05</td>\n",
              "      <td>20611.48</td>\n",
              "      <td>21185.65</td>\n",
              "      <td>293078.082620</td>\n",
              "      <td>6856434</td>\n",
              "    </tr>\n",
              "    <tr>\n",
              "      <th>...</th>\n",
              "      <td>...</td>\n",
              "      <td>...</td>\n",
              "      <td>...</td>\n",
              "      <td>...</td>\n",
              "      <td>...</td>\n",
              "      <td>...</td>\n",
              "      <td>...</td>\n",
              "    </tr>\n",
              "    <tr>\n",
              "      <th>2017-08-21</th>\n",
              "      <td>BTCUSDT</td>\n",
              "      <td>4069.13</td>\n",
              "      <td>4119.62</td>\n",
              "      <td>3911.79</td>\n",
              "      <td>4016.00</td>\n",
              "      <td>691.743060</td>\n",
              "      <td>3972</td>\n",
              "    </tr>\n",
              "    <tr>\n",
              "      <th>2017-08-20</th>\n",
              "      <td>BTCUSDT</td>\n",
              "      <td>4120.98</td>\n",
              "      <td>4211.08</td>\n",
              "      <td>4032.62</td>\n",
              "      <td>4086.29</td>\n",
              "      <td>467.083022</td>\n",
              "      <td>2321</td>\n",
              "    </tr>\n",
              "    <tr>\n",
              "      <th>2017-08-19</th>\n",
              "      <td>BTCUSDT</td>\n",
              "      <td>4108.37</td>\n",
              "      <td>4184.69</td>\n",
              "      <td>3850.00</td>\n",
              "      <td>4139.98</td>\n",
              "      <td>381.309763</td>\n",
              "      <td>2153</td>\n",
              "    </tr>\n",
              "    <tr>\n",
              "      <th>2017-08-18</th>\n",
              "      <td>BTCUSDT</td>\n",
              "      <td>4285.08</td>\n",
              "      <td>4371.52</td>\n",
              "      <td>3938.77</td>\n",
              "      <td>4108.37</td>\n",
              "      <td>1199.888264</td>\n",
              "      <td>5233</td>\n",
              "    </tr>\n",
              "    <tr>\n",
              "      <th>2017-08-17</th>\n",
              "      <td>BTCUSDT</td>\n",
              "      <td>4261.48</td>\n",
              "      <td>4485.39</td>\n",
              "      <td>4200.74</td>\n",
              "      <td>4285.08</td>\n",
              "      <td>795.150377</td>\n",
              "      <td>3427</td>\n",
              "    </tr>\n",
              "  </tbody>\n",
              "</table>\n",
              "<p>1983 rows × 7 columns</p>\n",
              "</div>\n",
              "      <button class=\"colab-df-convert\" onclick=\"convertToInteractive('df-447d087a-24b4-44d9-ba8a-a87c732758cf')\"\n",
              "              title=\"Convert this dataframe to an interactive table.\"\n",
              "              style=\"display:none;\">\n",
              "        \n",
              "  <svg xmlns=\"http://www.w3.org/2000/svg\" height=\"24px\"viewBox=\"0 0 24 24\"\n",
              "       width=\"24px\">\n",
              "    <path d=\"M0 0h24v24H0V0z\" fill=\"none\"/>\n",
              "    <path d=\"M18.56 5.44l.94 2.06.94-2.06 2.06-.94-2.06-.94-.94-2.06-.94 2.06-2.06.94zm-11 1L8.5 8.5l.94-2.06 2.06-.94-2.06-.94L8.5 2.5l-.94 2.06-2.06.94zm10 10l.94 2.06.94-2.06 2.06-.94-2.06-.94-.94-2.06-.94 2.06-2.06.94z\"/><path d=\"M17.41 7.96l-1.37-1.37c-.4-.4-.92-.59-1.43-.59-.52 0-1.04.2-1.43.59L10.3 9.45l-7.72 7.72c-.78.78-.78 2.05 0 2.83L4 21.41c.39.39.9.59 1.41.59.51 0 1.02-.2 1.41-.59l7.78-7.78 2.81-2.81c.8-.78.8-2.07 0-2.86zM5.41 20L4 18.59l7.72-7.72 1.47 1.35L5.41 20z\"/>\n",
              "  </svg>\n",
              "      </button>\n",
              "      \n",
              "  <style>\n",
              "    .colab-df-container {\n",
              "      display:flex;\n",
              "      flex-wrap:wrap;\n",
              "      gap: 12px;\n",
              "    }\n",
              "\n",
              "    .colab-df-convert {\n",
              "      background-color: #E8F0FE;\n",
              "      border: none;\n",
              "      border-radius: 50%;\n",
              "      cursor: pointer;\n",
              "      display: none;\n",
              "      fill: #1967D2;\n",
              "      height: 32px;\n",
              "      padding: 0 0 0 0;\n",
              "      width: 32px;\n",
              "    }\n",
              "\n",
              "    .colab-df-convert:hover {\n",
              "      background-color: #E2EBFA;\n",
              "      box-shadow: 0px 1px 2px rgba(60, 64, 67, 0.3), 0px 1px 3px 1px rgba(60, 64, 67, 0.15);\n",
              "      fill: #174EA6;\n",
              "    }\n",
              "\n",
              "    [theme=dark] .colab-df-convert {\n",
              "      background-color: #3B4455;\n",
              "      fill: #D2E3FC;\n",
              "    }\n",
              "\n",
              "    [theme=dark] .colab-df-convert:hover {\n",
              "      background-color: #434B5C;\n",
              "      box-shadow: 0px 1px 3px 1px rgba(0, 0, 0, 0.15);\n",
              "      filter: drop-shadow(0px 1px 2px rgba(0, 0, 0, 0.3));\n",
              "      fill: #FFFFFF;\n",
              "    }\n",
              "  </style>\n",
              "\n",
              "      <script>\n",
              "        const buttonEl =\n",
              "          document.querySelector('#df-447d087a-24b4-44d9-ba8a-a87c732758cf button.colab-df-convert');\n",
              "        buttonEl.style.display =\n",
              "          google.colab.kernel.accessAllowed ? 'block' : 'none';\n",
              "\n",
              "        async function convertToInteractive(key) {\n",
              "          const element = document.querySelector('#df-447d087a-24b4-44d9-ba8a-a87c732758cf');\n",
              "          const dataTable =\n",
              "            await google.colab.kernel.invokeFunction('convertToInteractive',\n",
              "                                                     [key], {});\n",
              "          if (!dataTable) return;\n",
              "\n",
              "          const docLinkHtml = 'Like what you see? Visit the ' +\n",
              "            '<a target=\"_blank\" href=https://colab.research.google.com/notebooks/data_table.ipynb>data table notebook</a>'\n",
              "            + ' to learn more about interactive tables.';\n",
              "          element.innerHTML = '';\n",
              "          dataTable['output_type'] = 'display_data';\n",
              "          await google.colab.output.renderOutput(dataTable, element);\n",
              "          const docLink = document.createElement('div');\n",
              "          docLink.innerHTML = docLinkHtml;\n",
              "          element.appendChild(docLink);\n",
              "        }\n",
              "      </script>\n",
              "    </div>\n",
              "  </div>\n",
              "  "
            ]
          },
          "metadata": {},
          "execution_count": 12
        }
      ]
    },
    {
      "cell_type": "code",
      "source": [
        "#Calculate the returns\n",
        "df['returns'] = df['Close'].pct_change()"
      ],
      "metadata": {
        "id": "P548xKp6yW4t"
      },
      "execution_count": 13,
      "outputs": []
    },
    {
      "cell_type": "code",
      "source": [
        "df = df.apply(pd.to_numeric, errors='coerce')\n"
      ],
      "metadata": {
        "id": "T4snZc4e4Y8D"
      },
      "execution_count": 14,
      "outputs": []
    },
    {
      "cell_type": "code",
      "source": [
        "print(np.isinf(df).sum())\n"
      ],
      "metadata": {
        "colab": {
          "base_uri": "https://localhost:8080/"
        },
        "id": "77tnXasM3iSf",
        "outputId": "b8b98448-ef8f-40c9-ab28-d32750e93736"
      },
      "execution_count": 15,
      "outputs": [
        {
          "output_type": "stream",
          "name": "stdout",
          "text": [
            "Symbol        0\n",
            "Open          0\n",
            "High          0\n",
            "Low           0\n",
            "Close         0\n",
            "Volume BTC    0\n",
            "tradecount    0\n",
            "returns       0\n",
            "dtype: int64\n"
          ]
        }
      ]
    },
    {
      "cell_type": "code",
      "source": [
        "#Apply the Savgol filter to the returns\n",
        "window_size = 5\n",
        "polyorder = 2\n",
        "df['smoothed_returns'] = savgol_filter(df['returns'], window_size, polyorder)"
      ],
      "metadata": {
        "id": "f9V9gOrsyeAH"
      },
      "execution_count": 16,
      "outputs": []
    },
    {
      "cell_type": "code",
      "source": [
        "df['smoothed_returns']"
      ],
      "metadata": {
        "colab": {
          "base_uri": "https://localhost:8080/"
        },
        "id": "WmH6e4rSyt4H",
        "outputId": "2fa2e37d-dd53-4365-83dd-277abb4c8073"
      },
      "execution_count": 17,
      "outputs": [
        {
          "output_type": "execute_result",
          "data": {
            "text/plain": [
              "Date\n",
              "2023-01-20         NaN\n",
              "2023-01-19         NaN\n",
              "2023-01-18         NaN\n",
              "2023-01-17    0.012460\n",
              "2023-01-16    0.004928\n",
              "                ...   \n",
              "2017-08-21   -0.000167\n",
              "2017-08-20    0.013166\n",
              "2017-08-19    0.006587\n",
              "2017-08-18    0.016578\n",
              "2017-08-17    0.031997\n",
              "Name: smoothed_returns, Length: 1983, dtype: float64"
            ]
          },
          "metadata": {},
          "execution_count": 17
        }
      ]
    },
    {
      "cell_type": "code",
      "source": [
        "# Define the replay buffer\n",
        "replay_buffer = []"
      ],
      "metadata": {
        "id": "2uEHxi18y3BO"
      },
      "execution_count": 18,
      "outputs": []
    },
    {
      "cell_type": "code",
      "source": [
        "# Define the reward function\n",
        "def reward_function(returns, smoothed_returns, gamma):\n",
        "    rewards = []\n",
        "    for i, r in enumerate(returns):\n",
        "        future_returns = returns[i+1:]\n",
        "        future_rewards = [np.power(gamma, j) * r_future for j, r_future in enumerate(future_returns)]\n",
        "        total_future_reward = sum(future_rewards)\n",
        "        rewards.append(total_future_reward)\n",
        "    return rewards\n"
      ],
      "metadata": {
        "id": "UCP4f5fzy6rP"
      },
      "execution_count": 19,
      "outputs": []
    },
    {
      "cell_type": "code",
      "source": [
        "# Define the discount factor\n",
        "gamma = 0.9\n"
      ],
      "metadata": {
        "id": "3lAvB3f-y9S2"
      },
      "execution_count": 20,
      "outputs": []
    },
    {
      "cell_type": "code",
      "source": [
        "# Calculate the rewards\n",
        "df['rewards'] = reward_function(df['returns'], df['smoothed_returns'], gamma)"
      ],
      "metadata": {
        "id": "s59TRBwHy_bH"
      },
      "execution_count": 21,
      "outputs": []
    },
    {
      "cell_type": "code",
      "source": [
        "df['rewards']"
      ],
      "metadata": {
        "colab": {
          "base_uri": "https://localhost:8080/"
        },
        "id": "dq2ID2rwzC5H",
        "outputId": "50467c4d-26e3-4a32-d60c-5619f05f93f3"
      },
      "execution_count": 22,
      "outputs": [
        {
          "output_type": "execute_result",
          "data": {
            "text/plain": [
              "Date\n",
              "2023-01-20   -0.169854\n",
              "2023-01-19   -0.110512\n",
              "2023-01-18   -0.102009\n",
              "2023-01-17   -0.137919\n",
              "2023-01-16   -0.155916\n",
              "                ...   \n",
              "2017-08-21    0.054499\n",
              "2017-08-20    0.041107\n",
              "2017-08-19    0.031076\n",
              "2017-08-18    0.043012\n",
              "2017-08-17    0.000000\n",
              "Name: rewards, Length: 1983, dtype: float64"
            ]
          },
          "metadata": {},
          "execution_count": 22
        }
      ]
    },
    {
      "cell_type": "code",
      "source": [],
      "metadata": {
        "id": "vK6xVlSt05FO"
      },
      "execution_count": null,
      "outputs": []
    },
    {
      "cell_type": "code",
      "source": [
        "\n",
        "# Add the rewards and returns to the replay buffer\n",
        "replay_buffer.append((df['returns'], df['rewards']))"
      ],
      "metadata": {
        "id": "mXfTahIzzHGj"
      },
      "execution_count": 23,
      "outputs": []
    },
    {
      "cell_type": "code",
      "source": [
        "# Define the training and testing sets\n",
        "train_start = datetime(2017,8,17)\n",
        "train_end = datetime(2021,12,31)\n",
        "test_start = datetime(2022,1,1)\n",
        "test_end = datetime(2023,1,1)\n"
      ],
      "metadata": {
        "id": "Tpy_fjs1zNN2"
      },
      "execution_count": 24,
      "outputs": []
    },
    {
      "cell_type": "code",
      "source": [
        "# Create the training and testing sets\n",
        "train_data = df[(df.index >= train_start) & (df.index <= train_end)]\n",
        "test_data = df[(df.index >= test_start) & (df.index <= test_end)]\n"
      ],
      "metadata": {
        "id": "axAG6G62zf9I"
      },
      "execution_count": 25,
      "outputs": []
    },
    {
      "cell_type": "code",
      "source": [
        "# Train the linear regression model using the replay buffer\n",
        "X_train = train_data[['smoothed_returns']]\n",
        "y_train = train_data['rewards']\n",
        "model = LinearRegression().fit(X_train, y_train)\n"
      ],
      "metadata": {
        "id": "49cuwIXUzjgu"
      },
      "execution_count": 26,
      "outputs": []
    },
    {
      "cell_type": "code",
      "source": [
        "# Make predictions on the testing set\n",
        "X_test = test_data[['smoothed_returns']]\n",
        "y_test = test_data['rewards']\n",
        "\n"
      ],
      "metadata": {
        "id": "Uig2zsBfzmXL"
      },
      "execution_count": 27,
      "outputs": []
    },
    {
      "cell_type": "code",
      "source": [
        "print(X_test.isnull().sum())\n"
      ],
      "metadata": {
        "colab": {
          "base_uri": "https://localhost:8080/"
        },
        "id": "zYYozLC948CG",
        "outputId": "41ac739d-cda3-4c02-f860-0da25e3f17cd"
      },
      "execution_count": 28,
      "outputs": [
        {
          "output_type": "stream",
          "name": "stdout",
          "text": [
            "smoothed_returns    0\n",
            "dtype: int64\n"
          ]
        }
      ]
    },
    {
      "cell_type": "code",
      "source": [
        "print(np.isinf(X_test).sum())\n"
      ],
      "metadata": {
        "colab": {
          "base_uri": "https://localhost:8080/"
        },
        "id": "oDHF0UBM49Wy",
        "outputId": "37987d54-e972-4590-af01-11762b39e9fc"
      },
      "execution_count": 29,
      "outputs": [
        {
          "output_type": "stream",
          "name": "stdout",
          "text": [
            "smoothed_returns    0\n",
            "dtype: int64\n"
          ]
        }
      ]
    },
    {
      "cell_type": "code",
      "source": [
        "X_test = X_test.fillna(X_test.mean())\n"
      ],
      "metadata": {
        "id": "Y-kER_vX5Rcg"
      },
      "execution_count": 30,
      "outputs": []
    },
    {
      "cell_type": "code",
      "source": [
        "y_pred = model.predict(X_test)"
      ],
      "metadata": {
        "id": "JZf2CybN5YZL"
      },
      "execution_count": 31,
      "outputs": []
    },
    {
      "cell_type": "code",
      "source": [
        "# Evaluate the model's performance\n",
        "mse = ((y_test - y_pred) ** 2).mean()\n",
        "print(\"Mean Squared Error: \", mse)"
      ],
      "metadata": {
        "colab": {
          "base_uri": "https://localhost:8080/"
        },
        "id": "OTnGwX225bBo",
        "outputId": "ffe09004-b055-4d59-e8de-d0eeaa70beae"
      },
      "execution_count": 32,
      "outputs": [
        {
          "output_type": "stream",
          "name": "stdout",
          "text": [
            "Mean Squared Error:  0.006687333254723184\n"
          ]
        }
      ]
    },
    {
      "cell_type": "code",
      "source": [
        "\n",
        "# Apply the model to new data to make predictions\n",
        "current_returns = df.iloc[-1]['smoothed_returns']\n",
        "future_reward = model.predict([[current_returns]])\n",
        "print(\"Predicted future reward\")"
      ],
      "metadata": {
        "colab": {
          "base_uri": "https://localhost:8080/"
        },
        "id": "ZtPAuMko5ds-",
        "outputId": "68b68000-934c-45f6-8511-078bc0624b84"
      },
      "execution_count": 33,
      "outputs": [
        {
          "output_type": "stream",
          "name": "stdout",
          "text": [
            "Predicted future reward\n"
          ]
        },
        {
          "output_type": "stream",
          "name": "stderr",
          "text": [
            "/usr/local/lib/python3.8/dist-packages/sklearn/base.py:450: UserWarning: X does not have valid feature names, but LinearRegression was fitted with feature names\n",
            "  warnings.warn(\n"
          ]
        }
      ]
    },
    {
      "cell_type": "code",
      "source": [
        "# Create a new dataframe for backtesting\n",
        "df_backtest = df[df.index < test_start]\n"
      ],
      "metadata": {
        "id": "FFou6yFQ6Jaq"
      },
      "execution_count": 34,
      "outputs": []
    },
    {
      "cell_type": "code",
      "source": [
        "# Use the model to make predictions on the backtesting set\n",
        "X_backtest = df_backtest[['smoothed_returns']]\n",
        "y_backtest_pred = model.predict(X_backtest)\n"
      ],
      "metadata": {
        "id": "c-6ULG6I6MSz"
      },
      "execution_count": 35,
      "outputs": []
    },
    {
      "cell_type": "code",
      "source": [
        "# Compare the predictions to the actual outcomes\n",
        "df_backtest['predicted_rewards'] = y_backtest_pred\n",
        "df_backtest['error'] = df_backtest['rewards'] - df_backtest['predicted_rewards']\n"
      ],
      "metadata": {
        "colab": {
          "base_uri": "https://localhost:8080/"
        },
        "id": "jcoUybR46PX4",
        "outputId": "01125d64-83c7-469a-e3af-6a9ce24a3afd"
      },
      "execution_count": 36,
      "outputs": [
        {
          "output_type": "stream",
          "name": "stderr",
          "text": [
            "<ipython-input-36-2c7d8636debf>:2: SettingWithCopyWarning: \n",
            "A value is trying to be set on a copy of a slice from a DataFrame.\n",
            "Try using .loc[row_indexer,col_indexer] = value instead\n",
            "\n",
            "See the caveats in the documentation: https://pandas.pydata.org/pandas-docs/stable/user_guide/indexing.html#returning-a-view-versus-a-copy\n",
            "  df_backtest['predicted_rewards'] = y_backtest_pred\n",
            "<ipython-input-36-2c7d8636debf>:3: SettingWithCopyWarning: \n",
            "A value is trying to be set on a copy of a slice from a DataFrame.\n",
            "Try using .loc[row_indexer,col_indexer] = value instead\n",
            "\n",
            "See the caveats in the documentation: https://pandas.pydata.org/pandas-docs/stable/user_guide/indexing.html#returning-a-view-versus-a-copy\n",
            "  df_backtest['error'] = df_backtest['rewards'] - df_backtest['predicted_rewards']\n"
          ]
        }
      ]
    },
    {
      "cell_type": "code",
      "source": [
        "# Calculate performance metrics\n",
        "mse = ((df_backtest['error']) ** 2).mean()\n",
        "print(\"Mean Squared Error: \", mse)"
      ],
      "metadata": {
        "colab": {
          "base_uri": "https://localhost:8080/"
        },
        "id": "X5M2-_eU6Q6V",
        "outputId": "87caeb82-af74-430b-c163-4a734bd99ebd"
      },
      "execution_count": 37,
      "outputs": [
        {
          "output_type": "stream",
          "name": "stdout",
          "text": [
            "Mean Squared Error:  0.010615593616353195\n"
          ]
        }
      ]
    },
    {
      "cell_type": "code",
      "source": [
        "# Calculate the return on investment\n",
        "df_backtest['return_on_investment'] = df_backtest['returns'] * df_backtest['predicted_rewards']\n",
        "roi = df_backtest['return_on_investment'].sum()\n",
        "print(\"Return on Investment: \", roi)"
      ],
      "metadata": {
        "colab": {
          "base_uri": "https://localhost:8080/"
        },
        "id": "FyxyLuKz6S5j",
        "outputId": "f689a2d6-6e94-43e3-b622-ec60d5a87aa7"
      },
      "execution_count": 38,
      "outputs": [
        {
          "output_type": "stream",
          "name": "stdout",
          "text": [
            "Return on Investment:  1.0080377573309172\n"
          ]
        },
        {
          "output_type": "stream",
          "name": "stderr",
          "text": [
            "<ipython-input-38-1baf0912f30d>:2: SettingWithCopyWarning: \n",
            "A value is trying to be set on a copy of a slice from a DataFrame.\n",
            "Try using .loc[row_indexer,col_indexer] = value instead\n",
            "\n",
            "See the caveats in the documentation: https://pandas.pydata.org/pandas-docs/stable/user_guide/indexing.html#returning-a-view-versus-a-copy\n",
            "  df_backtest['return_on_investment'] = df_backtest['returns'] * df_backtest['predicted_rewards']\n"
          ]
        }
      ]
    },
    {
      "cell_type": "code",
      "source": [],
      "metadata": {
        "id": "kyxtgIQL604h"
      },
      "execution_count": null,
      "outputs": []
    }
  ]
}